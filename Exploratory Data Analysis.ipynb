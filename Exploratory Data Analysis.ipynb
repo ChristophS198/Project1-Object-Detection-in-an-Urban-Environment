{
 "cells": [
  {
   "cell_type": "markdown",
   "metadata": {},
   "source": [
    "# Explore the dataset\n",
    "\n",
    "\n",
    "In this notebook, we will perform an EDA (Exploratory Data Analysis) on the processed Waymo dataset (data in the `processed` folder). In the first part, you will create a function to display "
   ]
  },
  {
   "cell_type": "code",
   "execution_count": null,
   "metadata": {},
   "outputs": [],
   "source": [
    "from utils import get_dataset\n",
    "%matplotlib inline\n",
    "import matplotlib.pyplot as plt\n",
    "from matplotlib.patches import Rectangle"
   ]
  },
  {
   "cell_type": "code",
   "execution_count": null,
   "metadata": {},
   "outputs": [],
   "source": [
    "dataset = get_dataset(\"data/waymo/training_and_validation/*.tfrecord\")"
   ]
  },
  {
   "cell_type": "markdown",
   "metadata": {},
   "source": [
    "## Write a function to display an image and the bounding boxes\n",
    "\n",
    "Implement the `display_instances` function below. This function takes a batch as an input and display an image with its corresponding bounding boxes. The only requirement is that the classes should be color coded (eg, vehicles in red, pedestrians in blue, cyclist in green)."
   ]
  },
  {
   "cell_type": "code",
   "execution_count": null,
   "metadata": {},
   "outputs": [],
   "source": [
    "def display_instances(batch):\n",
    "    \"\"\"\n",
    "    This function takes a batch from the dataset and display the image with \n",
    "    the associated bounding boxes.\n",
    "    \"\"\"\n",
    "    # Color map for class: color\n",
    "    colormap = {1: [1, 0, 0], 2: [0, 0, 1], 4: [0, 1, 0]}\n",
    "    image = batch[\"image\"].numpy()\n",
    "    img_shape = image.shape\n",
    "    filename = batch['filename']\n",
    "    bboxes = batch['groundtruth_boxes'].numpy()\n",
    "    bbox_classes = batch['groundtruth_classes'].numpy()\n",
    "    # Print information\n",
    "    print('Name of TFrecord: {}'.format(filename))\n",
    "    print('Imageshape: {}'.format(img_shape))\n",
    "    print('Number of BBoxes: {}'.format(len(bboxes)))\n",
    "    print('Number of Objects: {}'.format(len(bbox_classes)))\n",
    "    \n",
    "    # Draw rectangles\n",
    "    fig, ax = plt.subplots(figsize=(25,18))\n",
    "\n",
    "    for cl, bb in zip(bbox_classes, bboxes):\n",
    "        # Box coordinates are normalized [0,1]\n",
    "        y1, x1, y2, x2 = bb*[img_shape[1], img_shape[0], img_shape[1], img_shape[0]]\n",
    "        rec = Rectangle((x1,y1), x2-x1, y2-y1, facecolor='none', \n",
    "                       linewidth=1,edgecolor=colormap[cl])\n",
    "        ax.add_patch(rec)\n",
    "    plt.axis('off')\n",
    "    \n",
    "    # Plot the image with its corresponding bboxes\n",
    "    imgplot = ax.imshow(image)\n",
    "    plt.show()\n"
   ]
  },
  {
   "cell_type": "markdown",
   "metadata": {},
   "source": [
    "## Display 10 images \n",
    "\n",
    "Using the dataset created in the second cell and the function you just coded, display 10 random images with the associated bounding boxes. You can use the methods `take` and `shuffle` on the dataset."
   ]
  },
  {
   "cell_type": "code",
   "execution_count": null,
   "metadata": {},
   "outputs": [],
   "source": [
    "# Use buffer_size of 100\n",
    "batches = dataset.shuffle(100, reshuffle_each_iteration=True).take(10)\n",
    "for element in batches:\n",
    "    display_instances(element)"
   ]
  },
  {
   "cell_type": "markdown",
   "metadata": {},
   "source": [
    "## Additional EDA\n",
    "\n",
    "In this last part, you are free to perform any additional analysis of the dataset. What else would like to know about the data?\n",
    "For example, think about data distribution. So far, you have only looked at a single file..."
   ]
  },
  {
   "cell_type": "code",
   "execution_count": null,
   "metadata": {},
   "outputs": [],
   "source": [
    "# Plot the distribution of batches over time, so we see how many records of each class are \n",
    "# found in each batch"
   ]
  }
 ],
 "metadata": {
  "kernelspec": {
   "display_name": "Python 3",
   "language": "python",
   "name": "python3"
  },
  "language_info": {
   "codemirror_mode": {
    "name": "ipython",
    "version": 3
   },
   "file_extension": ".py",
   "mimetype": "text/x-python",
   "name": "python",
   "nbconvert_exporter": "python",
   "pygments_lexer": "ipython3",
   "version": "3.6.9"
  }
 },
 "nbformat": 4,
 "nbformat_minor": 4
}
